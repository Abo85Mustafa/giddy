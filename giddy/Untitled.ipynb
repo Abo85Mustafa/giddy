{
 "cells": [
  {
   "cell_type": "code",
   "execution_count": 7,
   "metadata": {},
   "outputs": [],
   "source": [
    "import libpysal\n",
    "from giddy.markov import LISA_Markov\n",
    "import numpy as np"
   ]
  },
  {
   "cell_type": "code",
   "execution_count": 8,
   "metadata": {},
   "outputs": [],
   "source": [
    "f = libpysal.open(libpysal.examples.get_path(\"usjoin.csv\"))\n",
    "years = list(range(1929, 2010))\n",
    "pci = np.array([f.by_col[str(y)] for y in years]).transpose()\n",
    "w = libpysal.open(libpysal.examples.get_path(\"states48.gal\")).read()\n",
    "np.random.seed(10)\n",
    "lm_random = LISA_Markov(pci, w, permutations=99)\n",
    "r = lm_random.spillover()"
   ]
  },
  {
   "cell_type": "code",
   "execution_count": 41,
   "metadata": {},
   "outputs": [],
   "source": [
    "f = libpysal.open(libpysal.examples.get_path(\"usjoin.csv\"))\n",
    "years = list(range(1929, 2010))\n",
    "pci = np.array([f.by_col[str(y)] for y in years]).transpose()\n",
    "w = libpysal.open(libpysal.examples.get_path(\"states48.gal\")).read()\n",
    "np.random.seed(0)\n",
    "lm_random = LISA_Markov(pci, w, permutations=99)\n",
    "r = lm_random.spillover()"
   ]
  },
  {
   "cell_type": "code",
   "execution_count": 42,
   "metadata": {},
   "outputs": [
    {
     "data": {
      "text/plain": [
       "array([0., 0., 0., 1., 0., 2., 2., 0., 0., 1., 0., 0., 0., 0., 0., 0., 0.,\n",
       "       2., 2., 0., 0., 0., 0., 0., 0., 1., 2., 2., 0., 2., 0., 0., 2., 0.,\n",
       "       1., 2., 2., 0., 0., 0., 0., 0., 2., 0., 1., 2., 0., 0.])"
      ]
     },
     "execution_count": 42,
     "metadata": {},
     "output_type": "execute_result"
    }
   ],
   "source": [
    "r['components'][:,12]"
   ]
  },
  {
   "cell_type": "code",
   "execution_count": 43,
   "metadata": {},
   "outputs": [],
   "source": [
    "rn = lm_random.spillover(neighbors_on=True)"
   ]
  },
  {
   "cell_type": "code",
   "execution_count": 45,
   "metadata": {},
   "outputs": [
    {
     "data": {
      "text/plain": [
       "array([0., 1., 0., 1., 1., 2., 2., 0., 0., 1., 0., 2., 0., 0., 2., 0., 0.,\n",
       "       2., 2., 2., 0., 0., 0., 1., 1., 1., 2., 2., 1., 2., 0., 1., 2., 0.,\n",
       "       1., 2., 2., 0., 1., 0., 0., 1., 2., 2., 1., 2., 0., 1.])"
      ]
     },
     "execution_count": 45,
     "metadata": {},
     "output_type": "execute_result"
    }
   ],
   "source": [
    "rn[\"components\"][:,13]"
   ]
  },
  {
   "cell_type": "code",
   "execution_count": 51,
   "metadata": {},
   "outputs": [
    {
     "data": {
      "text/plain": [
       "array([0., 0., 0., 1., 0., 2., 2., 0., 0., 1., 0., 0., 0., 0., 0., 0., 0.,\n",
       "       2., 2., 0., 0., 0., 0., 0., 0., 1., 2., 2., 0., 2., 0., 0., 2., 0.,\n",
       "       1., 2., 2., 0., 0., 0., 0., 0., 2., 0., 1., 2., 0., 0.])"
      ]
     },
     "execution_count": 51,
     "metadata": {},
     "output_type": "execute_result"
    }
   ],
   "source": [
    "np.random.seed(10)\n",
    "lm_random = LISA_Markov(pci, w, permutations=99)\n",
    "r = lm_random.spillover()\n",
    "r['components'][:,12]"
   ]
  },
  {
   "cell_type": "code",
   "execution_count": 52,
   "metadata": {},
   "outputs": [
    {
     "data": {
      "text/plain": [
       "array([0., 1., 0., 1., 1., 2., 2., 0., 0., 1., 0., 2., 0., 1., 2., 0., 2.,\n",
       "       2., 2., 2., 0., 0., 0., 1., 1., 1., 2., 2., 1., 2., 0., 1., 2., 1.,\n",
       "       1., 2., 2., 0., 1., 0., 1., 1., 2., 2., 1., 2., 0., 1.])"
      ]
     },
     "execution_count": 52,
     "metadata": {},
     "output_type": "execute_result"
    }
   ],
   "source": [
    "rn = lm_random.spillover(neighbors_on=True)\n",
    "rn[\"components\"][:,13]"
   ]
  },
  {
   "cell_type": "code",
   "execution_count": 53,
   "metadata": {},
   "outputs": [
    {
     "data": {
      "text/plain": [
       "array([0., 1., 0., 1., 1., 2., 2., 0., 0., 1., 0., 2., 0., 1., 2., 0., 2.,\n",
       "       2., 2., 2., 0., 0., 0., 1., 1., 1., 2., 2., 1., 2., 0., 1., 2., 1.,\n",
       "       1., 2., 2., 0., 1., 0., 1., 1., 2., 2., 1., 2., 0., 1.])"
      ]
     },
     "execution_count": 53,
     "metadata": {},
     "output_type": "execute_result"
    }
   ],
   "source": [
    "rn = lm_random.spillover(neighbors_on=True)\n",
    "rn[\"components\"][:,13]"
   ]
  },
  {
   "cell_type": "code",
   "execution_count": 54,
   "metadata": {},
   "outputs": [
    {
     "data": {
      "text/plain": [
       "array([0., 1., 0., 1., 1., 2., 2., 0., 0., 1., 0., 2., 0., 1., 2., 0., 2.,\n",
       "       2., 2., 2., 0., 0., 0., 1., 1., 1., 2., 2., 1., 2., 0., 1., 2., 1.,\n",
       "       1., 2., 2., 0., 1., 0., 1., 1., 2., 2., 1., 2., 0., 1.])"
      ]
     },
     "execution_count": 54,
     "metadata": {},
     "output_type": "execute_result"
    }
   ],
   "source": [
    "rn = lm_random.spillover(neighbors_on=True)\n",
    "rn[\"components\"][:,13]"
   ]
  },
  {
   "cell_type": "code",
   "execution_count": 50,
   "metadata": {},
   "outputs": [
    {
     "data": {
      "text/plain": [
       "array([0., 1., 0., 1., 1., 2., 2., 0., 0., 1., 0., 2., 0., 1., 2., 0., 2.,\n",
       "       2., 2., 2., 0., 0., 0., 1., 1., 1., 2., 2., 1., 2., 0., 1., 2., 1.,\n",
       "       1., 2., 2., 0., 1., 0., 1., 1., 2., 2., 1., 2., 0., 1.])"
      ]
     },
     "execution_count": 50,
     "metadata": {},
     "output_type": "execute_result"
    }
   ],
   "source": [
    "np.random.seed(10)\n",
    "rn = lm_random.spillover(neighbors_on=True)\n",
    "rn[\"components\"][:,13]"
   ]
  },
  {
   "cell_type": "code",
   "execution_count": null,
   "metadata": {},
   "outputs": [],
   "source": []
  }
 ],
 "metadata": {
  "kernelspec": {
   "display_name": "Python 3",
   "language": "python",
   "name": "python3"
  },
  "language_info": {
   "codemirror_mode": {
    "name": "ipython",
    "version": 3
   },
   "file_extension": ".py",
   "mimetype": "text/x-python",
   "name": "python",
   "nbconvert_exporter": "python",
   "pygments_lexer": "ipython3",
   "version": "3.6.5"
  }
 },
 "nbformat": 4,
 "nbformat_minor": 2
}
